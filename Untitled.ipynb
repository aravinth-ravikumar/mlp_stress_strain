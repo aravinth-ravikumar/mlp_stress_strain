{
 "cells": [
  {
   "cell_type": "code",
   "execution_count": 1,
   "id": "f8c20871-afa2-41b7-9003-80a59c007399",
   "metadata": {},
   "outputs": [
    {
     "name": "stderr",
     "output_type": "stream",
     "text": [
      "/usr/local/lib/python3.10/dist-packages/matplotlib/projections/__init__.py:63: UserWarning: Unable to import Axes3D. This may be due to multiple versions of Matplotlib being installed (e.g. as a system package and as a pip package). As a result, the 3D projection is not available.\n",
      "  warnings.warn(\"Unable to import Axes3D. This may be due to multiple versions of \"\n"
     ]
    }
   ],
   "source": [
    "import pandas as pd\n",
    "import matplotlib.pyplot as plt\n",
    "from sklearn.neural_network import MLPRegressor\n",
    "from sklearn.model_selection import GridSearchCV\n",
    "from sklearn.pipeline import Pipeline\n",
    "from sklearn.preprocessing import MinMaxScaler\n",
    "\n",
    "\n",
    "from preproccessing2 import get_strains, get_stresses, get_load_displacements, get_X_and_y\n"
   ]
  },
  {
   "cell_type": "code",
   "execution_count": 26,
   "id": "6c4681ff-6ea3-4161-8a75-2597f827d050",
   "metadata": {},
   "outputs": [],
   "source": [
    "strain_filename = \"time_strain.csv\"\n",
    "strain_time = get_strains(filename=strain_filename)\n",
    "\n",
    "s_t_filename = \"stress_time.csv\"\n",
    "s_t = get_stresses(filename=s_t_filename)\n",
    "\n",
    "l_d_filename = \"force_disp.csv\"\n",
    "l_d = get_load_displacements(filename=l_d_filename)"
   ]
  },
  {
   "cell_type": "code",
   "execution_count": 27,
   "id": "edbc08dd-0eeb-494a-9b1b-7b6cbaba5fdf",
   "metadata": {},
   "outputs": [],
   "source": [
    "X, y = get_X_and_y(s_t=s_t, l_d=l_d, strain_t=strain_time)"
   ]
  },
  {
   "cell_type": "code",
   "execution_count": 31,
   "id": "bbef67e6-687c-438b-ae72-9fb3e765936d",
   "metadata": {},
   "outputs": [
    {
     "data": {
      "text/plain": [
       "[<matplotlib.lines.Line2D at 0x7fe9a8b6d520>]"
      ]
     },
     "execution_count": 31,
     "metadata": {},
     "output_type": "execute_result"
    },
    {
     "data": {
      "image/png": "[encoded data removed]",
      "text/plain": [
       "<Figure size 432x288 with 1 Axes>"
      ]
     },
     "metadata": {
      "needs_background": "light"
     },
     "output_type": "display_data"
    }
   ],
   "source": [
    "fig.ax = plt.subplots()\n",
    "\n",
    "ax.plot(y[\"strain\"], y[\"stress\"])"
   ]
  },
  {
   "cell_type": "code",
   "execution_count": 33,
   "id": "8b606d71-3779-473b-830b-299251ee70f2",
   "metadata": {},
   "outputs": [
    {
     "data": {
      "text/plain": [
       "0.14699"
      ]
     },
     "execution_count": 33,
     "metadata": {},
     "output_type": "execute_result"
    }
   ],
   "source": [
    "y[\"stress\"].max()"
   ]
  },
  {
   "cell_type": "code",
   "execution_count": 34,
   "id": "41de66e5-5878-46da-a29c-3503f558829f",
   "metadata": {},
   "outputs": [
    {
     "data": {
      "text/plain": [
       "0.22838"
      ]
     },
     "execution_count": 34,
     "metadata": {},
     "output_type": "execute_result"
    }
   ],
   "source": [
    "y[\"strain\"].max()"
   ]
  },
  {
   "cell_type": "code",
   "execution_count": 4,
   "id": "cd565b70-1781-4b9e-bf8c-a4a9c3957163",
   "metadata": {},
   "outputs": [],
   "source": [
    "def make_architectures(hidden_layers, nodes) -> list:\n",
    "    architectures = []\n",
    "\n",
    "    for hl in hidden_layers:\n",
    "        for node in nodes:\n",
    "            architectures.append((node,) * hl)\n",
    "\n",
    "    return architectures"
   ]
  },
  {
   "cell_type": "code",
   "execution_count": null,
   "id": "3ba3e7b6-0f40-464f-b188-0111ea5cf7f1",
   "metadata": {},
   "outputs": [],
   "source": []
  },
  {
   "cell_type": "code",
   "execution_count": 5,
   "id": "4b58934f-4eaa-4b61-8961-3ecf67272c38",
   "metadata": {},
   "outputs": [],
   "source": [
    "hidden_layers = [1, 2, 4, 6, 8]\n",
    "nodes = [5, 25, 100, 150, 250]\n",
    "\n",
    "architectures = make_architectures(hidden_layers=hidden_layers, nodes=nodes)\n",
    "\n",
    "parameter_grid = {'hidden_layer_sizes': architectures, 'activation': ['relu'],\n",
    "                  'alpha': [0.001, 0.01, 0.1], 'random_state': [7],\n",
    "                  'learning_rate_init': [0.001, 0.01, 0.1],\n",
    "                  'learning_rate': ['constant'], 'solver': ['adam']}\n",
    "\n",
    "num_threads = -1\n",
    "\n",
    "model = MLPRegressor()\n",
    "grid_search_object = GridSearchCV(estimator=model, param_grid=parameter_grid, cv=5, n_jobs=num_threads)\n",
    "piped_model = Pipeline([('scaler', MinMaxScaler()), ('model', grid_search_object)])\n",
    "\n",
    "piped_model.fit(X=X, y=y)\n",
    "\n",
    "results = pd.DataFrame(grid_search_object.cv_results_)"
   ]
  },
  {
   "cell_type": "code",
   "execution_count": 6,
   "id": "40f11acb-bd6f-4280-936b-d387d20ae5a7",
   "metadata": {},
   "outputs": [
    {
     "data": {
      "text/html": [
       "<div>\n",
       "<style scoped>\n",
       "    .dataframe tbody tr th:only-of-type {\n",
       "        vertical-align: middle;\n",
       "    }\n",
       "\n",
       "    .dataframe tbody tr th {\n",
       "        vertical-align: top;\n",
       "    }\n",
       "\n",
       "    .dataframe thead th {\n",
       "        text-align: right;\n",
       "    }\n",
       "</style>\n",
       "<table border=\"1\" class=\"dataframe\">\n",
       "  <thead>\n",
       "    <tr style=\"text-align: right;\">\n",
       "      <th></th>\n",
       "      <th>mean_fit_time</th>\n",
       "      <th>std_fit_time</th>\n",
       "      <th>mean_score_time</th>\n",
       "      <th>std_score_time</th>\n",
       "      <th>param_activation</th>\n",
       "      <th>param_alpha</th>\n",
       "      <th>param_hidden_layer_sizes</th>\n",
       "      <th>param_learning_rate</th>\n",
       "      <th>param_learning_rate_init</th>\n",
       "      <th>param_random_state</th>\n",
       "      <th>param_solver</th>\n",
       "      <th>params</th>\n",
       "      <th>split0_test_score</th>\n",
       "      <th>split1_test_score</th>\n",
       "      <th>split2_test_score</th>\n",
       "      <th>split3_test_score</th>\n",
       "      <th>split4_test_score</th>\n",
       "      <th>mean_test_score</th>\n",
       "      <th>std_test_score</th>\n",
       "      <th>rank_test_score</th>\n",
       "    </tr>\n",
       "  </thead>\n",
       "  <tbody>\n",
       "    <tr>\n",
       "      <th>42</th>\n",
       "      <td>9.416558</td>\n",
       "      <td>1.271227</td>\n",
       "      <td>0.049923</td>\n",
       "      <td>0.014113</td>\n",
       "      <td>relu</td>\n",
       "      <td>0.001</td>\n",
       "      <td>(250, 250, 250, 250)</td>\n",
       "      <td>constant</td>\n",
       "      <td>0.001</td>\n",
       "      <td>7</td>\n",
       "      <td>adam</td>\n",
       "      <td>{'activation': 'relu', 'alpha': 0.001, 'hidden...</td>\n",
       "      <td>0.999675</td>\n",
       "      <td>0.999550</td>\n",
       "      <td>0.999325</td>\n",
       "      <td>0.998253</td>\n",
       "      <td>0.999162</td>\n",
       "      <td>0.999193</td>\n",
       "      <td>0.000502</td>\n",
       "      <td>1</td>\n",
       "    </tr>\n",
       "    <tr>\n",
       "      <th>27</th>\n",
       "      <td>2.573972</td>\n",
       "      <td>0.224615</td>\n",
       "      <td>0.023972</td>\n",
       "      <td>0.006972</td>\n",
       "      <td>relu</td>\n",
       "      <td>0.001</td>\n",
       "      <td>(250, 250)</td>\n",
       "      <td>constant</td>\n",
       "      <td>0.001</td>\n",
       "      <td>7</td>\n",
       "      <td>adam</td>\n",
       "      <td>{'activation': 'relu', 'alpha': 0.001, 'hidden...</td>\n",
       "      <td>0.999650</td>\n",
       "      <td>0.999649</td>\n",
       "      <td>0.999430</td>\n",
       "      <td>0.998468</td>\n",
       "      <td>0.998739</td>\n",
       "      <td>0.999187</td>\n",
       "      <td>0.000491</td>\n",
       "      <td>2</td>\n",
       "    </tr>\n",
       "    <tr>\n",
       "      <th>10</th>\n",
       "      <td>0.283999</td>\n",
       "      <td>0.003526</td>\n",
       "      <td>0.003735</td>\n",
       "      <td>0.000188</td>\n",
       "      <td>relu</td>\n",
       "      <td>0.001</td>\n",
       "      <td>(150,)</td>\n",
       "      <td>constant</td>\n",
       "      <td>0.01</td>\n",
       "      <td>7</td>\n",
       "      <td>adam</td>\n",
       "      <td>{'activation': 'relu', 'alpha': 0.001, 'hidden...</td>\n",
       "      <td>0.999505</td>\n",
       "      <td>0.999401</td>\n",
       "      <td>0.999031</td>\n",
       "      <td>0.998987</td>\n",
       "      <td>0.998940</td>\n",
       "      <td>0.999173</td>\n",
       "      <td>0.000233</td>\n",
       "      <td>3</td>\n",
       "    </tr>\n",
       "    <tr>\n",
       "      <th>36</th>\n",
       "      <td>1.616412</td>\n",
       "      <td>0.272480</td>\n",
       "      <td>0.016710</td>\n",
       "      <td>0.008237</td>\n",
       "      <td>relu</td>\n",
       "      <td>0.001</td>\n",
       "      <td>(100, 100, 100, 100)</td>\n",
       "      <td>constant</td>\n",
       "      <td>0.001</td>\n",
       "      <td>7</td>\n",
       "      <td>adam</td>\n",
       "      <td>{'activation': 'relu', 'alpha': 0.001, 'hidden...</td>\n",
       "      <td>0.999622</td>\n",
       "      <td>0.999524</td>\n",
       "      <td>0.999119</td>\n",
       "      <td>0.998881</td>\n",
       "      <td>0.998694</td>\n",
       "      <td>0.999168</td>\n",
       "      <td>0.000358</td>\n",
       "      <td>4</td>\n",
       "    </tr>\n",
       "    <tr>\n",
       "      <th>39</th>\n",
       "      <td>3.632619</td>\n",
       "      <td>0.678418</td>\n",
       "      <td>0.034381</td>\n",
       "      <td>0.012990</td>\n",
       "      <td>relu</td>\n",
       "      <td>0.001</td>\n",
       "      <td>(150, 150, 150, 150)</td>\n",
       "      <td>constant</td>\n",
       "      <td>0.001</td>\n",
       "      <td>7</td>\n",
       "      <td>adam</td>\n",
       "      <td>{'activation': 'relu', 'alpha': 0.001, 'hidden...</td>\n",
       "      <td>0.999369</td>\n",
       "      <td>0.999590</td>\n",
       "      <td>0.999191</td>\n",
       "      <td>0.998945</td>\n",
       "      <td>0.998737</td>\n",
       "      <td>0.999166</td>\n",
       "      <td>0.000302</td>\n",
       "      <td>5</td>\n",
       "    </tr>\n",
       "  </tbody>\n",
       "</table>\n",
       "</div>"
      ],
      "text/plain": [
       "    mean_fit_time  std_fit_time  mean_score_time  std_score_time  \\\n",
       "42       9.416558      1.271227         0.049923        0.014113   \n",
       "27       2.573972      0.224615         0.023972        0.006972   \n",
       "10       0.283999      0.003526         0.003735        0.000188   \n",
       "36       1.616412      0.272480         0.016710        0.008237   \n",
       "39       3.632619      0.678418         0.034381        0.012990   \n",
       "\n",
       "   param_activation param_alpha param_hidden_layer_sizes param_learning_rate  \\\n",
       "42             relu       0.001     (250, 250, 250, 250)            constant   \n",
       "27             relu       0.001               (250, 250)            constant   \n",
       "10             relu       0.001                   (150,)            constant   \n",
       "36             relu       0.001     (100, 100, 100, 100)            constant   \n",
       "39             relu       0.001     (150, 150, 150, 150)            constant   \n",
       "\n",
       "   param_learning_rate_init param_random_state param_solver  \\\n",
       "42                    0.001                  7         adam   \n",
       "27                    0.001                  7         adam   \n",
       "10                     0.01                  7         adam   \n",
       "36                    0.001                  7         adam   \n",
       "39                    0.001                  7         adam   \n",
       "\n",
       "                                               params  split0_test_score  \\\n",
       "42  {'activation': 'relu', 'alpha': 0.001, 'hidden...           0.999675   \n",
       "27  {'activation': 'relu', 'alpha': 0.001, 'hidden...           0.999650   \n",
       "10  {'activation': 'relu', 'alpha': 0.001, 'hidden...           0.999505   \n",
       "36  {'activation': 'relu', 'alpha': 0.001, 'hidden...           0.999622   \n",
       "39  {'activation': 'relu', 'alpha': 0.001, 'hidden...           0.999369   \n",
       "\n",
       "    split1_test_score  split2_test_score  split3_test_score  \\\n",
       "42           0.999550           0.999325           0.998253   \n",
       "27           0.999649           0.999430           0.998468   \n",
       "10           0.999401           0.999031           0.998987   \n",
       "36           0.999524           0.999119           0.998881   \n",
       "39           0.999590           0.999191           0.998945   \n",
       "\n",
       "    split4_test_score  mean_test_score  std_test_score  rank_test_score  \n",
       "42           0.999162         0.999193        0.000502                1  \n",
       "27           0.998739         0.999187        0.000491                2  \n",
       "10           0.998940         0.999173        0.000233                3  \n",
       "36           0.998694         0.999168        0.000358                4  \n",
       "39           0.998737         0.999166        0.000302                5  "
      ]
     },
     "execution_count": 6,
     "metadata": {},
     "output_type": "execute_result"
    }
   ],
   "source": [
    "results.sort_values(\"rank_test_score\").head()"
   ]
  },
  {
   "cell_type": "code",
   "execution_count": 7,
   "id": "c8443737-693b-4bf0-8b5c-e096adac2f98",
   "metadata": {},
   "outputs": [],
   "source": [
    "l_d_test82 = pd.read_csv(\"l_d_test82.csv\")\n",
    "true_ss_test82 = pd.read_csv(\"true_ss_test82.csv\")"
   ]
  },
  {
   "cell_type": "code",
   "execution_count": 8,
   "id": "424b2851-3c95-4e6a-8510-9df810cffb48",
   "metadata": {},
   "outputs": [
    {
     "data": {
      "text/html": [
       "<div>\n",
       "<style scoped>\n",
       "    .dataframe tbody tr th:only-of-type {\n",
       "        vertical-align: middle;\n",
       "    }\n",
       "\n",
       "    .dataframe tbody tr th {\n",
       "        vertical-align: top;\n",
       "    }\n",
       "\n",
       "    .dataframe thead th {\n",
       "        text-align: right;\n",
       "    }\n",
       "</style>\n",
       "<table border=\"1\" class=\"dataframe\">\n",
       "  <thead>\n",
       "    <tr style=\"text-align: right;\">\n",
       "      <th></th>\n",
       "      <th>Unnamed: 0</th>\n",
       "      <th>Axial Displacement (mm)</th>\n",
       "      <th>Axial Force (kN)</th>\n",
       "    </tr>\n",
       "  </thead>\n",
       "  <tbody>\n",
       "    <tr>\n",
       "      <th>0</th>\n",
       "      <td>0</td>\n",
       "      <td>-0.000092</td>\n",
       "      <td>0.023200</td>\n",
       "    </tr>\n",
       "    <tr>\n",
       "      <th>1</th>\n",
       "      <td>1</td>\n",
       "      <td>-0.000074</td>\n",
       "      <td>0.023576</td>\n",
       "    </tr>\n",
       "    <tr>\n",
       "      <th>2</th>\n",
       "      <td>2</td>\n",
       "      <td>0.000398</td>\n",
       "      <td>0.027367</td>\n",
       "    </tr>\n",
       "    <tr>\n",
       "      <th>3</th>\n",
       "      <td>3</td>\n",
       "      <td>0.000898</td>\n",
       "      <td>0.031218</td>\n",
       "    </tr>\n",
       "    <tr>\n",
       "      <th>4</th>\n",
       "      <td>4</td>\n",
       "      <td>0.001396</td>\n",
       "      <td>0.033135</td>\n",
       "    </tr>\n",
       "  </tbody>\n",
       "</table>\n",
       "</div>"
      ],
      "text/plain": [
       "   Unnamed: 0  Axial Displacement (mm)  Axial Force (kN)\n",
       "0           0                -0.000092          0.023200\n",
       "1           1                -0.000074          0.023576\n",
       "2           2                 0.000398          0.027367\n",
       "3           3                 0.000898          0.031218\n",
       "4           4                 0.001396          0.033135"
      ]
     },
     "execution_count": 8,
     "metadata": {},
     "output_type": "execute_result"
    }
   ],
   "source": [
    "l_d_test82.head()"
   ]
  },
  {
   "cell_type": "code",
   "execution_count": 9,
   "id": "f789017a-aa45-4f54-94a4-6752c461ea45",
   "metadata": {},
   "outputs": [],
   "source": [
    "l_d_test82 = l_d_test82.loc[:, [\"Axial Displacement (mm)\", \"Axial Force (kN)\"]]"
   ]
  },
  {
   "cell_type": "code",
   "execution_count": 10,
   "id": "24bd5697-bd66-4c06-b946-df03e9106bd9",
   "metadata": {},
   "outputs": [
    {
     "data": {
      "text/html": [
       "<div>\n",
       "<style scoped>\n",
       "    .dataframe tbody tr th:only-of-type {\n",
       "        vertical-align: middle;\n",
       "    }\n",
       "\n",
       "    .dataframe tbody tr th {\n",
       "        vertical-align: top;\n",
       "    }\n",
       "\n",
       "    .dataframe thead th {\n",
       "        text-align: right;\n",
       "    }\n",
       "</style>\n",
       "<table border=\"1\" class=\"dataframe\">\n",
       "  <thead>\n",
       "    <tr style=\"text-align: right;\">\n",
       "      <th></th>\n",
       "      <th>Axial Displacement (mm)</th>\n",
       "      <th>Axial Force (kN)</th>\n",
       "    </tr>\n",
       "  </thead>\n",
       "  <tbody>\n",
       "    <tr>\n",
       "      <th>0</th>\n",
       "      <td>-0.000092</td>\n",
       "      <td>0.023200</td>\n",
       "    </tr>\n",
       "    <tr>\n",
       "      <th>1</th>\n",
       "      <td>-0.000074</td>\n",
       "      <td>0.023576</td>\n",
       "    </tr>\n",
       "    <tr>\n",
       "      <th>2</th>\n",
       "      <td>0.000398</td>\n",
       "      <td>0.027367</td>\n",
       "    </tr>\n",
       "    <tr>\n",
       "      <th>3</th>\n",
       "      <td>0.000898</td>\n",
       "      <td>0.031218</td>\n",
       "    </tr>\n",
       "    <tr>\n",
       "      <th>4</th>\n",
       "      <td>0.001396</td>\n",
       "      <td>0.033135</td>\n",
       "    </tr>\n",
       "  </tbody>\n",
       "</table>\n",
       "</div>"
      ],
      "text/plain": [
       "   Axial Displacement (mm)  Axial Force (kN)\n",
       "0                -0.000092          0.023200\n",
       "1                -0.000074          0.023576\n",
       "2                 0.000398          0.027367\n",
       "3                 0.000898          0.031218\n",
       "4                 0.001396          0.033135"
      ]
     },
     "execution_count": 10,
     "metadata": {},
     "output_type": "execute_result"
    }
   ],
   "source": [
    "l_d_test82.head()"
   ]
  },
  {
   "cell_type": "code",
   "execution_count": 11,
   "id": "d3121488-5395-4dd2-ad49-f3044c213653",
   "metadata": {},
   "outputs": [
    {
     "data": {
      "image/png": "[encoded data removed]",
      "text/plain": [
       "<Figure size 432x288 with 1 Axes>"
      ]
     },
     "metadata": {
      "needs_background": "light"
     },
     "output_type": "display_data"
    }
   ],
   "source": [
    "fig, ax = plt.subplots()\n",
    "ax.plot(l_d_test82[\"Axial Displacement (mm)\"], l_d_test82[\"Axial Force (kN)\"])\n",
    "ax.set_xlabel(\"Displacement / mm\")\n",
    "ax.set_ylabel(\"Load / kN\")\n",
    "\n",
    "\n",
    "fig.savefig(\"load_displacement_test82.png\")\n"
   ]
  },
  {
   "cell_type": "code",
   "execution_count": 12,
   "id": "7aa1485c-4aab-4778-8da8-b1c383bcc032",
   "metadata": {},
   "outputs": [],
   "source": [
    "true_ss_test82[\"true stress Gpa\"] = true_ss_test82[\"true stress Mpa\"].apply(lambda x: x*0.001)"
   ]
  },
  {
   "cell_type": "code",
   "execution_count": 13,
   "id": "0847eac0-fc2c-4645-a969-6525f813d7bb",
   "metadata": {},
   "outputs": [
    {
     "data": {
      "text/html": [
       "<div>\n",
       "<style scoped>\n",
       "    .dataframe tbody tr th:only-of-type {\n",
       "        vertical-align: middle;\n",
       "    }\n",
       "\n",
       "    .dataframe tbody tr th {\n",
       "        vertical-align: top;\n",
       "    }\n",
       "\n",
       "    .dataframe thead th {\n",
       "        text-align: right;\n",
       "    }\n",
       "</style>\n",
       "<table border=\"1\" class=\"dataframe\">\n",
       "  <thead>\n",
       "    <tr style=\"text-align: right;\">\n",
       "      <th></th>\n",
       "      <th>Unnamed: 0</th>\n",
       "      <th>true stress Mpa</th>\n",
       "      <th>true strain</th>\n",
       "      <th>true stress Gpa</th>\n",
       "    </tr>\n",
       "  </thead>\n",
       "  <tbody>\n",
       "    <tr>\n",
       "      <th>0</th>\n",
       "      <td>0</td>\n",
       "      <td>3.283787</td>\n",
       "      <td>-0.000005</td>\n",
       "      <td>0.003284</td>\n",
       "    </tr>\n",
       "    <tr>\n",
       "      <th>1</th>\n",
       "      <td>1</td>\n",
       "      <td>3.336993</td>\n",
       "      <td>-0.000004</td>\n",
       "      <td>0.003337</td>\n",
       "    </tr>\n",
       "    <tr>\n",
       "      <th>2</th>\n",
       "      <td>2</td>\n",
       "      <td>3.873713</td>\n",
       "      <td>0.000020</td>\n",
       "      <td>0.003874</td>\n",
       "    </tr>\n",
       "    <tr>\n",
       "      <th>3</th>\n",
       "      <td>3</td>\n",
       "      <td>4.418950</td>\n",
       "      <td>0.000045</td>\n",
       "      <td>0.004419</td>\n",
       "    </tr>\n",
       "    <tr>\n",
       "      <th>4</th>\n",
       "      <td>4</td>\n",
       "      <td>4.690378</td>\n",
       "      <td>0.000070</td>\n",
       "      <td>0.004690</td>\n",
       "    </tr>\n",
       "  </tbody>\n",
       "</table>\n",
       "</div>"
      ],
      "text/plain": [
       "   Unnamed: 0  true stress Mpa  true strain  true stress Gpa\n",
       "0           0         3.283787    -0.000005         0.003284\n",
       "1           1         3.336993    -0.000004         0.003337\n",
       "2           2         3.873713     0.000020         0.003874\n",
       "3           3         4.418950     0.000045         0.004419\n",
       "4           4         4.690378     0.000070         0.004690"
      ]
     },
     "execution_count": 13,
     "metadata": {},
     "output_type": "execute_result"
    }
   ],
   "source": [
    "true_ss_test82.head()"
   ]
  },
  {
   "cell_type": "code",
   "execution_count": 14,
   "id": "810ce5cd-9687-4f50-8aa9-020d039a13a3",
   "metadata": {},
   "outputs": [],
   "source": [
    "true_ss_test82 = true_ss_test82.loc[:, [\"true strain\", \"true stress Gpa\"]]"
   ]
  },
  {
   "cell_type": "code",
   "execution_count": 15,
   "id": "c81ddf73-4c05-4b69-b3f1-4ad16577b39b",
   "metadata": {},
   "outputs": [
    {
     "data": {
      "text/html": [
       "<div>\n",
       "<style scoped>\n",
       "    .dataframe tbody tr th:only-of-type {\n",
       "        vertical-align: middle;\n",
       "    }\n",
       "\n",
       "    .dataframe tbody tr th {\n",
       "        vertical-align: top;\n",
       "    }\n",
       "\n",
       "    .dataframe thead th {\n",
       "        text-align: right;\n",
       "    }\n",
       "</style>\n",
       "<table border=\"1\" class=\"dataframe\">\n",
       "  <thead>\n",
       "    <tr style=\"text-align: right;\">\n",
       "      <th></th>\n",
       "      <th>true strain</th>\n",
       "      <th>true stress Gpa</th>\n",
       "    </tr>\n",
       "  </thead>\n",
       "  <tbody>\n",
       "    <tr>\n",
       "      <th>0</th>\n",
       "      <td>-0.000005</td>\n",
       "      <td>0.003284</td>\n",
       "    </tr>\n",
       "    <tr>\n",
       "      <th>1</th>\n",
       "      <td>-0.000004</td>\n",
       "      <td>0.003337</td>\n",
       "    </tr>\n",
       "    <tr>\n",
       "      <th>2</th>\n",
       "      <td>0.000020</td>\n",
       "      <td>0.003874</td>\n",
       "    </tr>\n",
       "    <tr>\n",
       "      <th>3</th>\n",
       "      <td>0.000045</td>\n",
       "      <td>0.004419</td>\n",
       "    </tr>\n",
       "    <tr>\n",
       "      <th>4</th>\n",
       "      <td>0.000070</td>\n",
       "      <td>0.004690</td>\n",
       "    </tr>\n",
       "    <tr>\n",
       "      <th>...</th>\n",
       "      <td>...</td>\n",
       "      <td>...</td>\n",
       "    </tr>\n",
       "    <tr>\n",
       "      <th>8107</th>\n",
       "      <td>0.114774</td>\n",
       "      <td>0.119404</td>\n",
       "    </tr>\n",
       "    <tr>\n",
       "      <th>8108</th>\n",
       "      <td>0.114774</td>\n",
       "      <td>0.119008</td>\n",
       "    </tr>\n",
       "    <tr>\n",
       "      <th>8109</th>\n",
       "      <td>0.114796</td>\n",
       "      <td>0.119117</td>\n",
       "    </tr>\n",
       "    <tr>\n",
       "      <th>8110</th>\n",
       "      <td>0.114804</td>\n",
       "      <td>0.118946</td>\n",
       "    </tr>\n",
       "    <tr>\n",
       "      <th>8111</th>\n",
       "      <td>0.114819</td>\n",
       "      <td>0.119149</td>\n",
       "    </tr>\n",
       "  </tbody>\n",
       "</table>\n",
       "<p>8112 rows × 2 columns</p>\n",
       "</div>"
      ],
      "text/plain": [
       "      true strain  true stress Gpa\n",
       "0       -0.000005         0.003284\n",
       "1       -0.000004         0.003337\n",
       "2        0.000020         0.003874\n",
       "3        0.000045         0.004419\n",
       "4        0.000070         0.004690\n",
       "...           ...              ...\n",
       "8107     0.114774         0.119404\n",
       "8108     0.114774         0.119008\n",
       "8109     0.114796         0.119117\n",
       "8110     0.114804         0.118946\n",
       "8111     0.114819         0.119149\n",
       "\n",
       "[8112 rows x 2 columns]"
      ]
     },
     "execution_count": 15,
     "metadata": {},
     "output_type": "execute_result"
    }
   ],
   "source": [
    "true_ss_test82"
   ]
  },
  {
   "cell_type": "code",
   "execution_count": 16,
   "id": "efc92dd5-0151-409f-8126-4b06a6afc910",
   "metadata": {},
   "outputs": [],
   "source": [
    "scaler = MinMaxScaler()\n",
    "scaler.fit(l_d_test82)\n",
    "X = scaler.transform(l_d_test82)"
   ]
  },
  {
   "cell_type": "code",
   "execution_count": 17,
   "id": "40623ad4-a093-433e-ab3c-4937ab04f893",
   "metadata": {},
   "outputs": [],
   "source": [
    "pred_true_stress_strain = grid_search_object.best_estimator_.predict(X)"
   ]
  },
  {
   "cell_type": "code",
   "execution_count": 18,
   "id": "5961bb6d-0aee-43fc-bea1-5224aee9fac7",
   "metadata": {},
   "outputs": [],
   "source": [
    "df = pd.DataFrame(pred_true_stress_strain)\n",
    "df.rename(columns={0: \"true stress pred\", 1: \"true strain pred\"}, inplace=True)"
   ]
  },
  {
   "cell_type": "code",
   "execution_count": 22,
   "id": "b1ef5e5c-6675-4944-8ff6-3c1a7930274d",
   "metadata": {},
   "outputs": [
    {
     "data": {
      "text/plain": [
       "[<matplotlib.lines.Line2D at 0x7fea68d50dc0>]"
      ]
     },
     "execution_count": 22,
     "metadata": {},
     "output_type": "execute_result"
    },
    {
     "data": {
      "image/png": "[encoded data removed]",
      "text/plain": [
       "<Figure size 432x288 with 1 Axes>"
      ]
     },
     "metadata": {
      "needs_background": "light"
     },
     "output_type": "display_data"
    },
    {
     "name": "stderr",
     "output_type": "stream",
     "text": [
      "/usr/local/lib/python3.8/dist-packages/sklearn/neural_network/_multilayer_perceptron.py:702: ConvergenceWarning: Stochastic Optimizer: Maximum iterations (200) reached and the optimization hasn't converged yet.\n",
      "  warnings.warn(\n",
      "/usr/local/lib/python3.8/dist-packages/sklearn/neural_network/_multilayer_perceptron.py:702: ConvergenceWarning: Stochastic Optimizer: Maximum iterations (200) reached and the optimization hasn't converged yet.\n",
      "  warnings.warn(\n",
      "/usr/local/lib/python3.8/dist-packages/sklearn/neural_network/_multilayer_perceptron.py:702: ConvergenceWarning: Stochastic Optimizer: Maximum iterations (200) reached and the optimization hasn't converged yet.\n",
      "  warnings.warn(\n",
      "/usr/local/lib/python3.8/dist-packages/sklearn/neural_network/_multilayer_perceptron.py:702: ConvergenceWarning: Stochastic Optimizer: Maximum iterations (200) reached and the optimization hasn't converged yet.\n",
      "  warnings.warn(\n",
      "/usr/local/lib/python3.8/dist-packages/sklearn/neural_network/_multilayer_perceptron.py:702: ConvergenceWarning: Stochastic Optimizer: Maximum iterations (200) reached and the optimization hasn't converged yet.\n",
      "  warnings.warn(\n",
      "/usr/local/lib/python3.8/dist-packages/sklearn/neural_network/_multilayer_perceptron.py:702: ConvergenceWarning: Stochastic Optimizer: Maximum iterations (200) reached and the optimization hasn't converged yet.\n",
      "  warnings.warn(\n",
      "/usr/local/lib/python3.8/dist-packages/sklearn/neural_network/_multilayer_perceptron.py:702: ConvergenceWarning: Stochastic Optimizer: Maximum iterations (200) reached and the optimization hasn't converged yet.\n",
      "  warnings.warn(\n",
      "/usr/local/lib/python3.8/dist-packages/sklearn/neural_network/_multilayer_perceptron.py:702: ConvergenceWarning: Stochastic Optimizer: Maximum iterations (200) reached and the optimization hasn't converged yet.\n",
      "  warnings.warn(\n",
      "/usr/local/lib/python3.8/dist-packages/sklearn/neural_network/_multilayer_perceptron.py:702: ConvergenceWarning: Stochastic Optimizer: Maximum iterations (200) reached and the optimization hasn't converged yet.\n",
      "  warnings.warn(\n",
      "/usr/local/lib/python3.8/dist-packages/sklearn/neural_network/_multilayer_perceptron.py:702: ConvergenceWarning: Stochastic Optimizer: Maximum iterations (200) reached and the optimization hasn't converged yet.\n",
      "  warnings.warn(\n",
      "/usr/local/lib/python3.8/dist-packages/sklearn/neural_network/_multilayer_perceptron.py:702: ConvergenceWarning: Stochastic Optimizer: Maximum iterations (200) reached and the optimization hasn't converged yet.\n",
      "  warnings.warn(\n",
      "/usr/local/lib/python3.8/dist-packages/sklearn/neural_network/_multilayer_perceptron.py:702: ConvergenceWarning: Stochastic Optimizer: Maximum iterations (200) reached and the optimization hasn't converged yet.\n",
      "  warnings.warn(\n",
      "/usr/local/lib/python3.8/dist-packages/sklearn/neural_network/_multilayer_perceptron.py:702: ConvergenceWarning: Stochastic Optimizer: Maximum iterations (200) reached and the optimization hasn't converged yet.\n",
      "  warnings.warn(\n",
      "/usr/local/lib/python3.8/dist-packages/sklearn/neural_network/_multilayer_perceptron.py:702: ConvergenceWarning: Stochastic Optimizer: Maximum iterations (200) reached and the optimization hasn't converged yet.\n",
      "  warnings.warn(\n",
      "/usr/local/lib/python3.8/dist-packages/sklearn/neural_network/_multilayer_perceptron.py:702: ConvergenceWarning: Stochastic Optimizer: Maximum iterations (200) reached and the optimization hasn't converged yet.\n",
      "  warnings.warn(\n",
      "/usr/local/lib/python3.8/dist-packages/sklearn/neural_network/_multilayer_perceptron.py:702: ConvergenceWarning: Stochastic Optimizer: Maximum iterations (200) reached and the optimization hasn't converged yet.\n",
      "  warnings.warn(\n",
      "/usr/local/lib/python3.8/dist-packages/sklearn/neural_network/_multilayer_perceptron.py:702: ConvergenceWarning: Stochastic Optimizer: Maximum iterations (200) reached and the optimization hasn't converged yet.\n",
      "  warnings.warn(\n",
      "/usr/local/lib/python3.8/dist-packages/sklearn/neural_network/_multilayer_perceptron.py:702: ConvergenceWarning: Stochastic Optimizer: Maximum iterations (200) reached and the optimization hasn't converged yet.\n",
      "  warnings.warn(\n",
      "/usr/local/lib/python3.8/dist-packages/sklearn/neural_network/_multilayer_perceptron.py:702: ConvergenceWarning: Stochastic Optimizer: Maximum iterations (200) reached and the optimization hasn't converged yet.\n",
      "  warnings.warn(\n",
      "/usr/local/lib/python3.8/dist-packages/sklearn/neural_network/_multilayer_perceptron.py:702: ConvergenceWarning: Stochastic Optimizer: Maximum iterations (200) reached and the optimization hasn't converged yet.\n",
      "  warnings.warn(\n",
      "/usr/local/lib/python3.8/dist-packages/sklearn/neural_network/_multilayer_perceptron.py:702: ConvergenceWarning: Stochastic Optimizer: Maximum iterations (200) reached and the optimization hasn't converged yet.\n",
      "  warnings.warn(\n",
      "/usr/local/lib/python3.8/dist-packages/sklearn/neural_network/_multilayer_perceptron.py:702: ConvergenceWarning: Stochastic Optimizer: Maximum iterations (200) reached and the optimization hasn't converged yet.\n",
      "  warnings.warn(\n",
      "/usr/local/lib/python3.8/dist-packages/sklearn/neural_network/_multilayer_perceptron.py:702: ConvergenceWarning: Stochastic Optimizer: Maximum iterations (200) reached and the optimization hasn't converged yet.\n",
      "  warnings.warn(\n",
      "/usr/local/lib/python3.8/dist-packages/sklearn/neural_network/_multilayer_perceptron.py:702: ConvergenceWarning: Stochastic Optimizer: Maximum iterations (200) reached and the optimization hasn't converged yet.\n",
      "  warnings.warn(\n",
      "/usr/local/lib/python3.8/dist-packages/sklearn/neural_network/_multilayer_perceptron.py:702: ConvergenceWarning: Stochastic Optimizer: Maximum iterations (200) reached and the optimization hasn't converged yet.\n",
      "  warnings.warn(\n",
      "/usr/local/lib/python3.8/dist-packages/sklearn/neural_network/_multilayer_perceptron.py:702: ConvergenceWarning: Stochastic Optimizer: Maximum iterations (200) reached and the optimization hasn't converged yet.\n",
      "  warnings.warn(\n",
      "/usr/local/lib/python3.8/dist-packages/sklearn/neural_network/_multilayer_perceptron.py:702: ConvergenceWarning: Stochastic Optimizer: Maximum iterations (200) reached and the optimization hasn't converged yet.\n",
      "  warnings.warn(\n",
      "/usr/local/lib/python3.8/dist-packages/sklearn/neural_network/_multilayer_perceptron.py:702: ConvergenceWarning: Stochastic Optimizer: Maximum iterations (200) reached and the optimization hasn't converged yet.\n",
      "  warnings.warn(\n",
      "/usr/local/lib/python3.8/dist-packages/sklearn/neural_network/_multilayer_perceptron.py:702: ConvergenceWarning: Stochastic Optimizer: Maximum iterations (200) reached and the optimization hasn't converged yet.\n",
      "  warnings.warn(\n",
      "/usr/local/lib/python3.8/dist-packages/sklearn/neural_network/_multilayer_perceptron.py:702: ConvergenceWarning: Stochastic Optimizer: Maximum iterations (200) reached and the optimization hasn't converged yet.\n",
      "  warnings.warn(\n",
      "/usr/local/lib/python3.8/dist-packages/sklearn/neural_network/_multilayer_perceptron.py:702: ConvergenceWarning: Stochastic Optimizer: Maximum iterations (200) reached and the optimization hasn't converged yet.\n",
      "  warnings.warn(\n",
      "/usr/local/lib/python3.8/dist-packages/sklearn/neural_network/_multilayer_perceptron.py:702: ConvergenceWarning: Stochastic Optimizer: Maximum iterations (200) reached and the optimization hasn't converged yet.\n",
      "  warnings.warn(\n",
      "/usr/local/lib/python3.8/dist-packages/sklearn/neural_network/_multilayer_perceptron.py:702: ConvergenceWarning: Stochastic Optimizer: Maximum iterations (200) reached and the optimization hasn't converged yet.\n",
      "  warnings.warn(\n",
      "/usr/local/lib/python3.8/dist-packages/sklearn/neural_network/_multilayer_perceptron.py:702: ConvergenceWarning: Stochastic Optimizer: Maximum iterations (200) reached and the optimization hasn't converged yet.\n",
      "  warnings.warn(\n",
      "/usr/local/lib/python3.8/dist-packages/sklearn/neural_network/_multilayer_perceptron.py:702: ConvergenceWarning: Stochastic Optimizer: Maximum iterations (200) reached and the optimization hasn't converged yet.\n",
      "  warnings.warn(\n",
      "/usr/local/lib/python3.8/dist-packages/sklearn/neural_network/_multilayer_perceptron.py:702: ConvergenceWarning: Stochastic Optimizer: Maximum iterations (200) reached and the optimization hasn't converged yet.\n",
      "  warnings.warn(\n",
      "/usr/local/lib/python3.8/dist-packages/sklearn/neural_network/_multilayer_perceptron.py:702: ConvergenceWarning: Stochastic Optimizer: Maximum iterations (200) reached and the optimization hasn't converged yet.\n",
      "  warnings.warn(\n"
     ]
    }
   ],
   "source": [
    "fig, ax = plt.subplots()\n",
    "\n",
    "ax.plot(df[\"true strain pred\"], df[\"true stress pred\"], color=\"r\")\n",
    "ax.plot(true_ss_test82[\"true strain\"], true_ss_test82[\"true stress Gpa\"], color=\"black\")"
   ]
  },
  {
   "cell_type": "code",
   "execution_count": 20,
   "id": "d720fecd-a62d-4877-8606-0a0f4414ef94",
   "metadata": {},
   "outputs": [
    {
     "data": {
      "text/html": [
       "<div>\n",
       "<style scoped>\n",
       "    .dataframe tbody tr th:only-of-type {\n",
       "        vertical-align: middle;\n",
       "    }\n",
       "\n",
       "    .dataframe tbody tr th {\n",
       "        vertical-align: top;\n",
       "    }\n",
       "\n",
       "    .dataframe thead th {\n",
       "        text-align: right;\n",
       "    }\n",
       "</style>\n",
       "<table border=\"1\" class=\"dataframe\">\n",
       "  <thead>\n",
       "    <tr style=\"text-align: right;\">\n",
       "      <th></th>\n",
       "      <th>true stress pred</th>\n",
       "      <th>true strain pred</th>\n",
       "    </tr>\n",
       "  </thead>\n",
       "  <tbody>\n",
       "    <tr>\n",
       "      <th>0</th>\n",
       "      <td>0.003873</td>\n",
       "      <td>0.001542</td>\n",
       "    </tr>\n",
       "    <tr>\n",
       "      <th>1</th>\n",
       "      <td>0.003937</td>\n",
       "      <td>0.001535</td>\n",
       "    </tr>\n",
       "    <tr>\n",
       "      <th>2</th>\n",
       "      <td>0.004589</td>\n",
       "      <td>0.001482</td>\n",
       "    </tr>\n",
       "    <tr>\n",
       "      <th>3</th>\n",
       "      <td>0.005251</td>\n",
       "      <td>0.001430</td>\n",
       "    </tr>\n",
       "    <tr>\n",
       "      <th>4</th>\n",
       "      <td>0.005579</td>\n",
       "      <td>0.001416</td>\n",
       "    </tr>\n",
       "    <tr>\n",
       "      <th>...</th>\n",
       "      <td>...</td>\n",
       "      <td>...</td>\n",
       "    </tr>\n",
       "    <tr>\n",
       "      <th>8107</th>\n",
       "      <td>0.146096</td>\n",
       "      <td>0.218596</td>\n",
       "    </tr>\n",
       "    <tr>\n",
       "      <th>8108</th>\n",
       "      <td>0.145687</td>\n",
       "      <td>0.218593</td>\n",
       "    </tr>\n",
       "    <tr>\n",
       "      <th>8109</th>\n",
       "      <td>0.145794</td>\n",
       "      <td>0.218638</td>\n",
       "    </tr>\n",
       "    <tr>\n",
       "      <th>8110</th>\n",
       "      <td>0.145615</td>\n",
       "      <td>0.218654</td>\n",
       "    </tr>\n",
       "    <tr>\n",
       "      <th>8111</th>\n",
       "      <td>0.145822</td>\n",
       "      <td>0.218682</td>\n",
       "    </tr>\n",
       "  </tbody>\n",
       "</table>\n",
       "<p>8112 rows × 2 columns</p>\n",
       "</div>"
      ],
      "text/plain": [
       "      true stress pred  true strain pred\n",
       "0             0.003873          0.001542\n",
       "1             0.003937          0.001535\n",
       "2             0.004589          0.001482\n",
       "3             0.005251          0.001430\n",
       "4             0.005579          0.001416\n",
       "...                ...               ...\n",
       "8107          0.146096          0.218596\n",
       "8108          0.145687          0.218593\n",
       "8109          0.145794          0.218638\n",
       "8110          0.145615          0.218654\n",
       "8111          0.145822          0.218682\n",
       "\n",
       "[8112 rows x 2 columns]"
      ]
     },
     "execution_count": 20,
     "metadata": {},
     "output_type": "execute_result"
    }
   ],
   "source": [
    "df"
   ]
  },
  {
   "cell_type": "code",
   "execution_count": null,
   "id": "6aee7a38-255b-4618-bc33-386b0b5e615c",
   "metadata": {},
   "outputs": [],
   "source": []
  },
  {
   "cell_type": "code",
   "execution_count": null,
   "id": "f491d234-291b-4c23-969c-a29062035155",
   "metadata": {},
   "outputs": [],
   "source": []
  }
 ],
 "metadata": {
  "kernelspec": {
   "display_name": "Python 3 (ipykernel)",
   "language": "python",
   "name": "python3"
  },
  "language_info": {
   "codemirror_mode": {
    "name": "ipython",
    "version": 3
   },
   "file_extension": ".py",
   "mimetype": "text/x-python",
   "name": "python",
   "nbconvert_exporter": "python",
   "pygments_lexer": "ipython3",
   "version": "3.10.12"
  }
 },
 "nbformat": 4,
 "nbformat_minor": 5
}
